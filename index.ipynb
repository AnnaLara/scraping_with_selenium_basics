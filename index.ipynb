{
 "cells": [
  {
   "cell_type": "code",
   "execution_count": 1,
   "metadata": {},
   "outputs": [],
   "source": [
    "from selenium.webdriver import Chrome, Firefox"
   ]
  },
  {
   "cell_type": "code",
   "execution_count": 2,
   "metadata": {},
   "outputs": [],
   "source": [
    "# create an instance of web driver\n",
    "browser = Firefox()"
   ]
  },
  {
   "cell_type": "code",
   "execution_count": 3,
   "metadata": {},
   "outputs": [],
   "source": [
    "# access URL's HTML\n",
    "browser.get('https://en.wikipedia.org/wiki/Main_Page')"
   ]
  },
  {
   "cell_type": "code",
   "execution_count": 4,
   "metadata": {},
   "outputs": [],
   "source": [
    "# get all the elements with class name 'interlanguage-link'\n",
    "languages = browser.find_elements_by_class_name('interlanguage-link')"
   ]
  },
  {
   "cell_type": "code",
   "execution_count": 5,
   "metadata": {},
   "outputs": [
    {
     "name": "stdout",
     "output_type": "stream",
     "text": [
      "<selenium.webdriver.firefox.webelement.FirefoxWebElement (session=\"01e48364-f68f-a949-a0c0-600c398a39fb\", element=\"ad2e4923-f5b1-2045-beaf-36af9669d055\")>\n"
     ]
    }
   ],
   "source": [
    "# languages is a list with web driver objects\n",
    "print(languages[0])"
   ]
  },
  {
   "cell_type": "code",
   "execution_count": 6,
   "metadata": {},
   "outputs": [],
   "source": [
    "# loop through languages and access <a> text and URL\n",
    "\n",
    "language_names = [language.find_element_by_css_selector('a').text for language in languages]\n",
    "links = [language.find_element_by_css_selector('a').get_attribute('href') for language in languages]\n"
   ]
  },
  {
   "cell_type": "code",
   "execution_count": 7,
   "metadata": {},
   "outputs": [],
   "source": [
    "# scroll down \n",
    "\n",
    "scroll_down = \"window.scrollTo(0, document.body.scrollHeight);\"\n",
    "browser.execute_script(scroll_down)"
   ]
  },
  {
   "cell_type": "code",
   "execution_count": 8,
   "metadata": {},
   "outputs": [],
   "source": [
    "# click 'Content' from the left menu\n",
    "\n",
    "content_element = browser.find_element_by_id('n-contents').find_element_by_css_selector('a')\n",
    "content_element.click()"
   ]
  },
  {
   "cell_type": "code",
   "execution_count": 9,
   "metadata": {},
   "outputs": [],
   "source": [
    "# download all images from the page\n",
    "\n",
    "#import modules\n",
    "from urllib.request import urlretrieve\n",
    "from uuid import uuid4\n",
    "\n",
    "# get the main page again\n",
    "browser.get('https://en.wikipedia.org/wiki/Main_Page')\n",
    "\n",
    "# locate image elements\n",
    "images = browser.find_elements_by_css_selector('img')\n",
    "\n",
    "# access src attribute of the images\n",
    "src_list = [img.get_attribute('src') for img in images]\n",
    "\n",
    "# retrieve umages using the URLs\n",
    "for src in src_list:\n",
    "    # create a unique name for each image by using UUID generator\n",
    "    uuid = uuid4()\n",
    "    urlretrieve(src, f\"wiki_images/{uuid}.jpg\")"
   ]
  },
  {
   "cell_type": "code",
   "execution_count": 10,
   "metadata": {},
   "outputs": [],
   "source": [
    "# load pages with time spacing\n",
    "\n",
    "import time\n",
    "\n",
    "# get 3 \n",
    "urls = links[0:3]\n",
    "\n",
    "for url in urls:\n",
    "    browser.get(url)\n",
    "    # stop for 3 seconds before going for the next page\n",
    "    time.sleep(3)\n"
   ]
  },
  {
   "cell_type": "code",
   "execution_count": 11,
   "metadata": {},
   "outputs": [],
   "source": [
    "# closing the web driver\n",
    "\n",
    "browser.close()"
   ]
  },
  {
   "cell_type": "code",
   "execution_count": null,
   "metadata": {},
   "outputs": [],
   "source": []
  }
 ],
 "metadata": {
  "kernelspec": {
   "display_name": "Python 3",
   "language": "python",
   "name": "python3"
  },
  "language_info": {
   "codemirror_mode": {
    "name": "ipython",
    "version": 3
   },
   "file_extension": ".py",
   "mimetype": "text/x-python",
   "name": "python",
   "nbconvert_exporter": "python",
   "pygments_lexer": "ipython3",
   "version": "3.7.1"
  }
 },
 "nbformat": 4,
 "nbformat_minor": 2
}
